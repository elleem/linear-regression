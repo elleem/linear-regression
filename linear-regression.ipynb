{
 "cells": [
  {
   "cell_type": "markdown",
   "id": "20fd7a3f",
   "metadata": {
    "papermill": {
     "duration": 0.00245,
     "end_time": "2023-04-29T20:57:58.179111",
     "exception": false,
     "start_time": "2023-04-29T20:57:58.176661",
     "status": "completed"
    },
    "tags": []
   },
   "source": [
    "## Exploratory Analysis with Linear Regressions\n",
    "\n",
    "\n",
    "### Analysis by Lauren Main\n",
    "\n",
    "### Feature Tasks Version 1.0\n",
    "\n",
    "* [Read and Display the Data Set](#section-one)\n",
    "* [Describe the Data Set ](#section-two)\n",
    "* [Test](#section-three)\n",
    "* [Train](#section-four)\n",
    "* [Fit ](#section-three)"
   ]
  },
  {
   "cell_type": "code",
   "execution_count": null,
   "id": "7abce28c",
   "metadata": {
    "papermill": {
     "duration": 0.001132,
     "end_time": "2023-04-29T20:57:58.181871",
     "exception": false,
     "start_time": "2023-04-29T20:57:58.180739",
     "status": "completed"
    },
    "tags": []
   },
   "outputs": [],
   "source": []
  }
 ],
 "metadata": {
  "kernelspec": {
   "display_name": "Python 3",
   "language": "python",
   "name": "python3"
  },
  "language_info": {
   "codemirror_mode": {
    "name": "ipython",
    "version": 3
   },
   "file_extension": ".py",
   "mimetype": "text/x-python",
   "name": "python",
   "nbconvert_exporter": "python",
   "pygments_lexer": "ipython3",
   "version": "3.7.12"
  },
  "papermill": {
   "default_parameters": {},
   "duration": 10.914977,
   "end_time": "2023-04-29T20:57:58.808914",
   "environment_variables": {},
   "exception": null,
   "input_path": "__notebook__.ipynb",
   "output_path": "__notebook__.ipynb",
   "parameters": {},
   "start_time": "2023-04-29T20:57:47.893937",
   "version": "2.4.0"
  }
 },
 "nbformat": 4,
 "nbformat_minor": 5
}
